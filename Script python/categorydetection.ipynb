{
 "cells": [
  {
   "cell_type": "code",
   "execution_count": 3,
   "metadata": {},
   "outputs": [],
   "source": [
    "import numpy as np\n",
    "import matplotlib.pyplot as plt\n",
    "import pandas as pd\n",
    "from sklearn.ensemble import RandomForestRegressor\n",
    "from sklearn.model_selection import train_test_split"
   ]
  },
  {
   "cell_type": "code",
   "execution_count": 4,
   "metadata": {},
   "outputs": [],
   "source": [
    "df = pd.read_csv('Output/histoire.csv')"
   ]
  },
  {
   "cell_type": "code",
   "execution_count": 6,
   "metadata": {},
   "outputs": [],
   "source": [
    "df_2018 = df[df['annee_base'] == 2018]\n",
    "df_2019 = df[df['annee_base'] == 2019]\n",
    "df_2020 = df[df['annee_base'] == 2020]\n",
    "df_2021 = df[df['annee_base'] == 2021]\n",
    "df_2022 = df[df['annee_base'] == 2022]"
   ]
  },
  {
   "cell_type": "code",
   "execution_count": null,
   "metadata": {},
   "outputs": [],
   "source": [
    "df_2018['categoriesuivante'] = df_2018['categorie2019']\n",
    "df_2019['categoriesuivante'] = df_2019['categorie2020']\n",
    "df_2020['categoriesuivante'] = df_2020['categorie2021']\n",
    "df_2021['categoriesuivante'] = df_2021['categorie2022']"
   ]
  },
  {
   "cell_type": "code",
   "execution_count": 25,
   "metadata": {},
   "outputs": [
    {
     "data": {
      "text/html": [
       "<div>\n",
       "<style scoped>\n",
       "    .dataframe tbody tr th:only-of-type {\n",
       "        vertical-align: middle;\n",
       "    }\n",
       "\n",
       "    .dataframe tbody tr th {\n",
       "        vertical-align: top;\n",
       "    }\n",
       "\n",
       "    .dataframe thead th {\n",
       "        text-align: right;\n",
       "    }\n",
       "</style>\n",
       "<table border=\"1\" class=\"dataframe\">\n",
       "  <thead>\n",
       "    <tr style=\"text-align: right;\">\n",
       "      <th></th>\n",
       "      <th>categoriejuridiqueunitelegale</th>\n",
       "      <th>libtrancheeffectifsunitelegale</th>\n",
       "      <th>nombre_etablissements</th>\n",
       "      <th>ca</th>\n",
       "      <th>resultat</th>\n",
       "      <th>effectif</th>\n",
       "      <th>longitude</th>\n",
       "      <th>latitude</th>\n",
       "      <th>categorieentreprise</th>\n",
       "      <th>categoriesuivante</th>\n",
       "    </tr>\n",
       "  </thead>\n",
       "  <tbody>\n",
       "    <tr>\n",
       "      <th>7</th>\n",
       "      <td>5720</td>\n",
       "      <td>50.0</td>\n",
       "      <td>1</td>\n",
       "      <td>40700188.0</td>\n",
       "      <td>-118026.0</td>\n",
       "      <td>63.0</td>\n",
       "      <td>-2.186008</td>\n",
       "      <td>47.322992</td>\n",
       "      <td>1</td>\n",
       "      <td>1.0</td>\n",
       "    </tr>\n",
       "    <tr>\n",
       "      <th>14</th>\n",
       "      <td>5720</td>\n",
       "      <td>10.0</td>\n",
       "      <td>1</td>\n",
       "      <td>1278000.0</td>\n",
       "      <td>1496000.0</td>\n",
       "      <td>4.0</td>\n",
       "      <td>2.354646</td>\n",
       "      <td>48.748474</td>\n",
       "      <td>1</td>\n",
       "      <td>1.0</td>\n",
       "    </tr>\n",
       "    <tr>\n",
       "      <th>17</th>\n",
       "      <td>5599</td>\n",
       "      <td>10.0</td>\n",
       "      <td>1</td>\n",
       "      <td>3615000.0</td>\n",
       "      <td>12831000.0</td>\n",
       "      <td>9.0</td>\n",
       "      <td>2.237226</td>\n",
       "      <td>48.834797</td>\n",
       "      <td>1</td>\n",
       "      <td>1.0</td>\n",
       "    </tr>\n",
       "    <tr>\n",
       "      <th>18</th>\n",
       "      <td>5710</td>\n",
       "      <td>50.0</td>\n",
       "      <td>1</td>\n",
       "      <td>19230000.0</td>\n",
       "      <td>1440000.0</td>\n",
       "      <td>56.0</td>\n",
       "      <td>5.064318</td>\n",
       "      <td>47.342935</td>\n",
       "      <td>1</td>\n",
       "      <td>1.0</td>\n",
       "    </tr>\n",
       "    <tr>\n",
       "      <th>20</th>\n",
       "      <td>5699</td>\n",
       "      <td>500.0</td>\n",
       "      <td>64</td>\n",
       "      <td>213250000.0</td>\n",
       "      <td>4163000.0</td>\n",
       "      <td>787.0</td>\n",
       "      <td>5.022279</td>\n",
       "      <td>47.286554</td>\n",
       "      <td>1</td>\n",
       "      <td>1.0</td>\n",
       "    </tr>\n",
       "    <tr>\n",
       "      <th>...</th>\n",
       "      <td>...</td>\n",
       "      <td>...</td>\n",
       "      <td>...</td>\n",
       "      <td>...</td>\n",
       "      <td>...</td>\n",
       "      <td>...</td>\n",
       "      <td>...</td>\n",
       "      <td>...</td>\n",
       "      <td>...</td>\n",
       "      <td>...</td>\n",
       "    </tr>\n",
       "    <tr>\n",
       "      <th>425684</th>\n",
       "      <td>5599</td>\n",
       "      <td>50.0</td>\n",
       "      <td>2</td>\n",
       "      <td>157194000.0</td>\n",
       "      <td>-3059000.0</td>\n",
       "      <td>0.0</td>\n",
       "      <td>1.489178</td>\n",
       "      <td>43.625451</td>\n",
       "      <td>2</td>\n",
       "      <td>2.0</td>\n",
       "    </tr>\n",
       "    <tr>\n",
       "      <th>425685</th>\n",
       "      <td>5710</td>\n",
       "      <td>20.0</td>\n",
       "      <td>2</td>\n",
       "      <td>11254604.0</td>\n",
       "      <td>568357.0</td>\n",
       "      <td>45.0</td>\n",
       "      <td>0.616506</td>\n",
       "      <td>44.186103</td>\n",
       "      <td>2</td>\n",
       "      <td>2.0</td>\n",
       "    </tr>\n",
       "    <tr>\n",
       "      <th>425686</th>\n",
       "      <td>5710</td>\n",
       "      <td>100.0</td>\n",
       "      <td>4</td>\n",
       "      <td>41701642.0</td>\n",
       "      <td>585649.0</td>\n",
       "      <td>153.0</td>\n",
       "      <td>-1.227279</td>\n",
       "      <td>43.716124</td>\n",
       "      <td>2</td>\n",
       "      <td>2.0</td>\n",
       "    </tr>\n",
       "    <tr>\n",
       "      <th>425688</th>\n",
       "      <td>5710</td>\n",
       "      <td>20.0</td>\n",
       "      <td>2</td>\n",
       "      <td>1886724.0</td>\n",
       "      <td>280976.0</td>\n",
       "      <td>24.0</td>\n",
       "      <td>-1.049806</td>\n",
       "      <td>43.710966</td>\n",
       "      <td>2</td>\n",
       "      <td>2.0</td>\n",
       "    </tr>\n",
       "    <tr>\n",
       "      <th>425694</th>\n",
       "      <td>5710</td>\n",
       "      <td>1000.0</td>\n",
       "      <td>6</td>\n",
       "      <td>413376000.0</td>\n",
       "      <td>-58036000.0</td>\n",
       "      <td>743.0</td>\n",
       "      <td>2.249467</td>\n",
       "      <td>48.888541</td>\n",
       "      <td>2</td>\n",
       "      <td>2.0</td>\n",
       "    </tr>\n",
       "  </tbody>\n",
       "</table>\n",
       "<p>66376 rows × 10 columns</p>\n",
       "</div>"
      ],
      "text/plain": [
       "        categoriejuridiqueunitelegale  libtrancheeffectifsunitelegale  \\\n",
       "7                                5720                            50.0   \n",
       "14                               5720                            10.0   \n",
       "17                               5599                            10.0   \n",
       "18                               5710                            50.0   \n",
       "20                               5699                           500.0   \n",
       "...                               ...                             ...   \n",
       "425684                           5599                            50.0   \n",
       "425685                           5710                            20.0   \n",
       "425686                           5710                           100.0   \n",
       "425688                           5710                            20.0   \n",
       "425694                           5710                          1000.0   \n",
       "\n",
       "        nombre_etablissements           ca    resultat  effectif  longitude  \\\n",
       "7                           1   40700188.0   -118026.0      63.0  -2.186008   \n",
       "14                          1    1278000.0   1496000.0       4.0   2.354646   \n",
       "17                          1    3615000.0  12831000.0       9.0   2.237226   \n",
       "18                          1   19230000.0   1440000.0      56.0   5.064318   \n",
       "20                         64  213250000.0   4163000.0     787.0   5.022279   \n",
       "...                       ...          ...         ...       ...        ...   \n",
       "425684                      2  157194000.0  -3059000.0       0.0   1.489178   \n",
       "425685                      2   11254604.0    568357.0      45.0   0.616506   \n",
       "425686                      4   41701642.0    585649.0     153.0  -1.227279   \n",
       "425688                      2    1886724.0    280976.0      24.0  -1.049806   \n",
       "425694                      6  413376000.0 -58036000.0     743.0   2.249467   \n",
       "\n",
       "         latitude  categorieentreprise  categoriesuivante  \n",
       "7       47.322992                    1                1.0  \n",
       "14      48.748474                    1                1.0  \n",
       "17      48.834797                    1                1.0  \n",
       "18      47.342935                    1                1.0  \n",
       "20      47.286554                    1                1.0  \n",
       "...           ...                  ...                ...  \n",
       "425684  43.625451                    2                2.0  \n",
       "425685  44.186103                    2                2.0  \n",
       "425686  43.716124                    2                2.0  \n",
       "425688  43.710966                    2                2.0  \n",
       "425694  48.888541                    2                2.0  \n",
       "\n",
       "[66376 rows x 10 columns]"
      ]
     },
     "execution_count": 25,
     "metadata": {},
     "output_type": "execute_result"
    }
   ],
   "source": [
    "df = pd.concat([df_2018, df_2019, df_2020, df_2021])\n",
    "df = df.drop(['categorie2018',\n",
    "            'categorie2019',\n",
    "            'categorie2020',\n",
    "            'categorie2021',\n",
    "            'categorie2022',\n",
    "            'economiesocialesolidaireunitelegale',\n",
    "            'annee_base',\n",
    "            'denominationunitelegale',\n",
    "            'siren',\n",
    "            'siret',\n",
    "            'trancheeffectifsetablissement',\n",
    "            'siret_siege',\n",
    "            'trancheeffectifsetablissement',\n",
    "            'activiteprincipaleetablissement',\n",
    "            'datecreationunitelegale',\n",
    "            'plus_ancien_etab',\n",
    "            'activiteprincipaleunitelegale'], axis = 1)\n",
    "\n",
    "df['libtrancheeffectifsunitelegale'] = df['libtrancheeffectifsunitelegale'].map({\n",
    "    \"1 ou 2 salariés\" : 1,\n",
    "    \"3 à 5 salariés\" : 3,\n",
    "    \"6 à 9 salariés\" : 6,\n",
    "    \"10 à 19 salariés\" : 10,\n",
    "    \"20 à 49 salariés\" : 20,\n",
    "    \"50 à 99 salariés\" : 50,\n",
    "    \"100 à 199 salariés\" : 100,\n",
    "    \"200 à 249 salariés\" : 200,\n",
    "    \"250 à 499 salariés\" : 250,\n",
    "    \"500 à 999 salariés\" : 500,\n",
    "    \"1 000 à 1 999 salariés\" : 1000,\n",
    "    \"2 000 à 4 999 salariés\" : 2000, \n",
    "    \"5 000 à 9 999 salariés\" : 5000\n",
    "    })\n",
    "\n",
    "df['categorieentreprise'] = df['categorieentreprise'].map({\n",
    "    \"ETI\" : 1,\n",
    "    \"GE\" : 2\n",
    "    })\n",
    "\n",
    "df['categoriesuivante'] = df['categoriesuivante'].map({\n",
    "    \"ETI\" : 1,\n",
    "    \"GE\" : 2\n",
    "    })\n",
    "\n",
    "df = df.dropna(axis = 0, how = 'any')\n",
    "\n",
    "df"
   ]
  },
  {
   "cell_type": "code",
   "execution_count": 26,
   "metadata": {},
   "outputs": [],
   "source": [
    "cible = df['categoriesuivante']\n",
    "df = df.drop('categoriesuivante', axis = 1)\n",
    "liste_variables = list(df.columns)\n",
    "df = np.array(df)"
   ]
  },
  {
   "cell_type": "code",
   "execution_count": 27,
   "metadata": {},
   "outputs": [
    {
     "data": {
      "text/html": [
       "<style>#sk-container-id-1 {color: black;background-color: white;}#sk-container-id-1 pre{padding: 0;}#sk-container-id-1 div.sk-toggleable {background-color: white;}#sk-container-id-1 label.sk-toggleable__label {cursor: pointer;display: block;width: 100%;margin-bottom: 0;padding: 0.3em;box-sizing: border-box;text-align: center;}#sk-container-id-1 label.sk-toggleable__label-arrow:before {content: \"▸\";float: left;margin-right: 0.25em;color: #696969;}#sk-container-id-1 label.sk-toggleable__label-arrow:hover:before {color: black;}#sk-container-id-1 div.sk-estimator:hover label.sk-toggleable__label-arrow:before {color: black;}#sk-container-id-1 div.sk-toggleable__content {max-height: 0;max-width: 0;overflow: hidden;text-align: left;background-color: #f0f8ff;}#sk-container-id-1 div.sk-toggleable__content pre {margin: 0.2em;color: black;border-radius: 0.25em;background-color: #f0f8ff;}#sk-container-id-1 input.sk-toggleable__control:checked~div.sk-toggleable__content {max-height: 200px;max-width: 100%;overflow: auto;}#sk-container-id-1 input.sk-toggleable__control:checked~label.sk-toggleable__label-arrow:before {content: \"▾\";}#sk-container-id-1 div.sk-estimator input.sk-toggleable__control:checked~label.sk-toggleable__label {background-color: #d4ebff;}#sk-container-id-1 div.sk-label input.sk-toggleable__control:checked~label.sk-toggleable__label {background-color: #d4ebff;}#sk-container-id-1 input.sk-hidden--visually {border: 0;clip: rect(1px 1px 1px 1px);clip: rect(1px, 1px, 1px, 1px);height: 1px;margin: -1px;overflow: hidden;padding: 0;position: absolute;width: 1px;}#sk-container-id-1 div.sk-estimator {font-family: monospace;background-color: #f0f8ff;border: 1px dotted black;border-radius: 0.25em;box-sizing: border-box;margin-bottom: 0.5em;}#sk-container-id-1 div.sk-estimator:hover {background-color: #d4ebff;}#sk-container-id-1 div.sk-parallel-item::after {content: \"\";width: 100%;border-bottom: 1px solid gray;flex-grow: 1;}#sk-container-id-1 div.sk-label:hover label.sk-toggleable__label {background-color: #d4ebff;}#sk-container-id-1 div.sk-serial::before {content: \"\";position: absolute;border-left: 1px solid gray;box-sizing: border-box;top: 0;bottom: 0;left: 50%;z-index: 0;}#sk-container-id-1 div.sk-serial {display: flex;flex-direction: column;align-items: center;background-color: white;padding-right: 0.2em;padding-left: 0.2em;position: relative;}#sk-container-id-1 div.sk-item {position: relative;z-index: 1;}#sk-container-id-1 div.sk-parallel {display: flex;align-items: stretch;justify-content: center;background-color: white;position: relative;}#sk-container-id-1 div.sk-item::before, #sk-container-id-1 div.sk-parallel-item::before {content: \"\";position: absolute;border-left: 1px solid gray;box-sizing: border-box;top: 0;bottom: 0;left: 50%;z-index: -1;}#sk-container-id-1 div.sk-parallel-item {display: flex;flex-direction: column;z-index: 1;position: relative;background-color: white;}#sk-container-id-1 div.sk-parallel-item:first-child::after {align-self: flex-end;width: 50%;}#sk-container-id-1 div.sk-parallel-item:last-child::after {align-self: flex-start;width: 50%;}#sk-container-id-1 div.sk-parallel-item:only-child::after {width: 0;}#sk-container-id-1 div.sk-dashed-wrapped {border: 1px dashed gray;margin: 0 0.4em 0.5em 0.4em;box-sizing: border-box;padding-bottom: 0.4em;background-color: white;}#sk-container-id-1 div.sk-label label {font-family: monospace;font-weight: bold;display: inline-block;line-height: 1.2em;}#sk-container-id-1 div.sk-label-container {text-align: center;}#sk-container-id-1 div.sk-container {/* jupyter's `normalize.less` sets `[hidden] { display: none; }` but bootstrap.min.css set `[hidden] { display: none !important; }` so we also need the `!important` here to be able to override the default hidden behavior on the sphinx rendered scikit-learn.org. See: https://github.com/scikit-learn/scikit-learn/issues/21755 */display: inline-block !important;position: relative;}#sk-container-id-1 div.sk-text-repr-fallback {display: none;}</style><div id=\"sk-container-id-1\" class=\"sk-top-container\"><div class=\"sk-text-repr-fallback\"><pre>RandomForestRegressor(random_state=2020)</pre><b>In a Jupyter environment, please rerun this cell to show the HTML representation or trust the notebook. <br />On GitHub, the HTML representation is unable to render, please try loading this page with nbviewer.org.</b></div><div class=\"sk-container\" hidden><div class=\"sk-item\"><div class=\"sk-estimator sk-toggleable\"><input class=\"sk-toggleable__control sk-hidden--visually\" id=\"sk-estimator-id-1\" type=\"checkbox\" checked><label for=\"sk-estimator-id-1\" class=\"sk-toggleable__label sk-toggleable__label-arrow\">RandomForestRegressor</label><div class=\"sk-toggleable__content\"><pre>RandomForestRegressor(random_state=2020)</pre></div></div></div></div></div>"
      ],
      "text/plain": [
       "RandomForestRegressor(random_state=2020)"
      ]
     },
     "execution_count": 27,
     "metadata": {},
     "output_type": "execute_result"
    }
   ],
   "source": [
    "x_train,x_test,y_train,y_test=train_test_split(df,cible,test_size=0.25, random_state=2020)\n",
    "rf = RandomForestRegressor(n_estimators = 100, random_state = 2020)\n",
    "rf.fit(x_train, y_train)"
   ]
  },
  {
   "cell_type": "code",
   "execution_count": 28,
   "metadata": {},
   "outputs": [],
   "source": [
    "predictions = rf.predict(x_test)"
   ]
  },
  {
   "cell_type": "code",
   "execution_count": 29,
   "metadata": {},
   "outputs": [
    {
     "name": "stdout",
     "output_type": "stream",
     "text": [
      "Mean Absolute Error: 0.04\n"
     ]
    }
   ],
   "source": [
    "erreurs = abs(predictions - y_test)\n",
    "print('Mean Absolute Error:', round(np.mean(erreurs), 2))"
   ]
  },
  {
   "cell_type": "code",
   "execution_count": 30,
   "metadata": {},
   "outputs": [
    {
     "name": "stdout",
     "output_type": "stream",
     "text": [
      "Mean Absolute Percentage Error : 2.92 %.\n"
     ]
    }
   ],
   "source": [
    "# MAPE\n",
    "mape = 100 * (erreurs / y_test)\n",
    "print('Mean Absolute Percentage Error :', round(np.mean(mape), 2), '%.')"
   ]
  },
  {
   "cell_type": "code",
   "execution_count": 31,
   "metadata": {},
   "outputs": [
    {
     "data": {
      "text/plain": [
       "Text(0.5, 0, 'Relative Importance')"
      ]
     },
     "execution_count": 31,
     "metadata": {},
     "output_type": "execute_result"
    },
    {
     "data": {
      "image/png": "[encoded data removed]",
      "text/plain": [
       "<Figure size 432x288 with 1 Axes>"
      ]
     },
     "metadata": {
      "needs_background": "light"
     },
     "output_type": "display_data"
    }
   ],
   "source": [
    "importances = rf.feature_importances_\n",
    "indices = np.argsort(importances)\n",
    "# style du graphique \n",
    "plt.style.use('fivethirtyeight')\n",
    "%matplotlib inline\n",
    "plt.figure(1)\n",
    "plt.title('Feature Importances')\n",
    "plt.barh(range(len(indices)), importances[indices], color='b', align='center')\n",
    "plt.yticks(range(len(indices)), [liste_variables[i] for i in indices])\n",
    "plt.xlabel('Relative Importance')"
   ]
  },
  {
   "cell_type": "code",
   "execution_count": null,
   "metadata": {},
   "outputs": [],
   "source": []
  }
 ],
 "metadata": {
  "kernelspec": {
   "display_name": "Python 3.9.7 64-bit",
   "language": "python",
   "name": "python3"
  },
  "language_info": {
   "codemirror_mode": {
    "name": "ipython",
    "version": 3
   },
   "file_extension": ".py",
   "mimetype": "text/x-python",
   "name": "python",
   "nbconvert_exporter": "python",
   "pygments_lexer": "ipython3",
   "version": "3.9.7"
  },
  "orig_nbformat": 4,
  "vscode": {
   "interpreter": {
    "hash": "aee8b7b246df8f9039afb4144a1f6fd8d2ca17a180786b69acc140d282b71a49"
   }
  }
 },
 "nbformat": 4,
 "nbformat_minor": 2
}
