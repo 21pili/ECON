{
 "cells": [
  {
   "cell_type": "markdown",
   "metadata": {},
   "source": [
    "### Scrapper la base de donnée SIRENE"
   ]
  },
  {
   "cell_type": "code",
   "execution_count": 21,
   "metadata": {},
   "outputs": [],
   "source": [
    "from api_insee import ApiInsee\n",
    "import matplotlib.pyplot as plt\n",
    "import pandas as pd"
   ]
  },
  {
   "cell_type": "code",
   "execution_count": 22,
   "metadata": {},
   "outputs": [],
   "source": [
    "api = ApiInsee(\n",
    "    key = 'mGKx4hZ_L7lpcWecNdoYZgX1Baka',\n",
    "    secret = 'C1pKvig26nzeb1r9AtQOv6JU7p0a'\n",
    ")"
   ]
  },
  {
   "cell_type": "code",
   "execution_count": 27,
   "metadata": {},
   "outputs": [],
   "source": [
    "champs = [\n",
    "    'siret',\n",
    "    'denominationUniteLegale',\n",
    "    'nomUsageUniteLegale',\n",
    "    'prenom1UniteLegale',\n",
    "]\n",
    "\n",
    "data = api.siret('39860733300059', champs=champs).get()"
   ]
  },
  {
   "cell_type": "code",
   "execution_count": 28,
   "metadata": {},
   "outputs": [
    {
     "name": "stdout",
     "output_type": "stream",
     "text": [
      "{'header': {'statut': 200, 'message': 'ok'}, 'etablissement': {'siret': '39860733300059', 'uniteLegale': {'denominationUniteLegale': None, 'nomUsageUniteLegale': None, 'prenom1UniteLegale': 'BERTRAND'}}}\n"
     ]
    }
   ],
   "source": [
    "print(data)"
   ]
  },
  {
   "cell_type": "code",
   "execution_count": null,
   "metadata": {},
   "outputs": [],
   "source": []
  },
  {
   "cell_type": "markdown",
   "metadata": {},
   "source": []
  }
 ],
 "metadata": {
  "kernelspec": {
   "display_name": "Python 3.9.7 ('sirene': venv)",
   "language": "python",
   "name": "python3"
  },
  "language_info": {
   "codemirror_mode": {
    "name": "ipython",
    "version": 3
   },
   "file_extension": ".py",
   "mimetype": "text/x-python",
   "name": "python",
   "nbconvert_exporter": "python",
   "pygments_lexer": "ipython3",
   "version": "3.9.7"
  },
  "orig_nbformat": 4,
  "vscode": {
   "interpreter": {
    "hash": "3d66713fffa449a916ed349d9bff793e29da71dac133a96f240dca34498012da"
   }
  }
 },
 "nbformat": 4,
 "nbformat_minor": 2
}
